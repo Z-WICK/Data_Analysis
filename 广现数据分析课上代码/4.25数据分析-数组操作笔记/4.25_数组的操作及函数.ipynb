{
 "cells": [
  {
   "cell_type": "code",
   "execution_count": 1,
   "metadata": {},
   "outputs": [
    {
     "name": "stdout",
     "output_type": "stream",
     "text": [
      "原始数组：\n",
      "[0 1 2 3 4 5 6 7]\n",
      "\n",
      "\n",
      "修改后的数组：\n",
      "[[0 1]\n",
      " [2 3]\n",
      " [4 5]\n",
      " [6 7]]\n"
     ]
    }
   ],
   "source": [
    "import numpy as np \n",
    "\n",
    "# numpy.reshape\n",
    "a = np.arange(8)\n",
    "print ('原始数组：')\n",
    "print (a)  # [0 1 2 3 4 5 6 7]\n",
    "print ('\\n')\n",
    " \n",
    "b = a.reshape(4,2)\n",
    "print ('修改后的数组：')\n",
    "print (b)"
   ]
  },
  {
   "cell_type": "code",
   "execution_count": 3,
   "metadata": {},
   "outputs": [
    {
     "name": "stdout",
     "output_type": "stream",
     "text": [
      "[0, 1, 2, 3, 4, 5, 6, 7, 8]\n"
     ]
    }
   ],
   "source": [
    "# numpy.ndarray.flat    # flat 平铺 平展\n",
    "\n",
    "a = np.arange(9).reshape(3,3)  # 3行3列\n",
    "# print ('原始数组：')\n",
    "# for row in a:   # 这个循环了几次？ 3次\n",
    "#     print (row)\n",
    "\n",
    "# print(list(a.flat))   # [0, 1, 2, 3, 4, 5, 6, 7, 8]\n",
    " \n",
    "#对数组中每个元素都进行处理，可以使用flat属性，该属性是一个数组元素迭代器：\n",
    "print ('迭代后的数组：')  #[0 1 2 3 4 5 6 6 7 8]\n",
    "for element in a.flat:   # 循环9次\n",
    "    print (element)"
   ]
  },
  {
   "cell_type": "code",
   "execution_count": 4,
   "metadata": {},
   "outputs": [
    {
     "name": "stdout",
     "output_type": "stream",
     "text": [
      "原数组：\n",
      "[[0 1 2 3]\n",
      " [4 5 6 7]]\n",
      "\n",
      "\n",
      "展开的数组：\n",
      "[0 1 2 3 4 5 6 7]\n",
      "\n",
      "\n",
      "以 F 风格顺序展开的数组：\n",
      "[0 4 1 5 2 6 3 7]\n"
     ]
    }
   ],
   "source": [
    "# numpy.ndarray.flatten\n",
    "\n",
    "a = np.arange(8).reshape(2,4)\n",
    " \n",
    "print ('原数组：')\n",
    "print (a)\n",
    "print ('\\n')\n",
    "# 默认按行\n",
    " \n",
    "print ('展开的数组：')\n",
    "# print (a.flatten())\n",
    "print (a.flatten(order = 'C'))   # 等价上述行代码 展开顺序 先行后列\n",
    "# [0 1 2 3 4 5 6 7]\n",
    "print ('\\n')\n",
    " \n",
    "print ('以 F 风格顺序展开的数组：')\n",
    "print (a.flatten(order = 'F')) # 等价上述行代码 展开顺序 先列后行\n",
    "# [0 4 1 5 2 6 3 7]"
   ]
  },
  {
   "cell_type": "code",
   "execution_count": 15,
   "metadata": {},
   "outputs": [
    {
     "name": "stdout",
     "output_type": "stream",
     "text": [
      "原数组：\n",
      "[[0 1 2 3]\n",
      " [4 5 6 7]]\n",
      "\n",
      "\n",
      "调用 ravel 函数之后：\n",
      "[100   1   2   3   4   5   6   7]\n",
      "[[100   1   2   3]\n",
      " [  4   5   6   7]]\n",
      "\n",
      "\n"
     ]
    }
   ],
   "source": [
    "# numpy.ndarray.ravel  都是平铺数据，支持修改数据，并且影响原数组\n",
    "# 展平的数组元素，顺序通常是\"C风格\"，返回的是数组视图（view，有点类似 C/C++引用reference的意味），\n",
    "# 修改会影响原始数组\n",
    "# numpy.ndarray.flatten  \n",
    "\n",
    "a = np.arange(8).reshape(2,4)\n",
    " \n",
    "print ('原数组：')\n",
    "print (a)\n",
    "print ('\\n')\n",
    " \n",
    "print ('调用 ravel 函数之后：')\n",
    "nd_ravel = a.ravel()\n",
    "nd_ravel[0] = 100\n",
    "print (nd_ravel)   # [100 1 2 3 4 5 6 7]\n",
    "print(a)\n",
    "print ('\\n')\n",
    " \n",
    "# print ('以 F 风格顺序调用 ravel 函数之后：')\n",
    "# print(a.ravel(order = 'F'))   #  [0 4 1 5 2 6 3 7]\n",
    "\n",
    "\n"
   ]
  },
  {
   "cell_type": "code",
   "execution_count": null,
   "metadata": {},
   "outputs": [],
   "source": []
  }
 ],
 "metadata": {
  "kernelspec": {
   "display_name": "Python 3",
   "language": "python",
   "name": "python3"
  },
  "language_info": {
   "codemirror_mode": {
    "name": "ipython",
    "version": 3
   },
   "file_extension": ".py",
   "mimetype": "text/x-python",
   "name": "python",
   "nbconvert_exporter": "python",
   "pygments_lexer": "ipython3",
   "version": "3.7.6"
  }
 },
 "nbformat": 4,
 "nbformat_minor": 4
}
