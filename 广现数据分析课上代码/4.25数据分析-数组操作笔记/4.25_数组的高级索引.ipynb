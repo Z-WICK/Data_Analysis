{
 "cells": [
  {
   "cell_type": "code",
   "execution_count": 2,
   "metadata": {},
   "outputs": [
    {
     "name": "stdout",
     "output_type": "stream",
     "text": [
      "[1 4 5]\n"
     ]
    }
   ],
   "source": [
    "import numpy as np \n",
    " \n",
    "x = np.array([[1,  2],  [3,  4],  [5,  6]]) \n",
    "y = x[[0,1,2],[0,1,0]]  \n",
    "# 这种索引方式，是如何选取数据的：\n",
    "# y = x[[0,1,2],[0,1,0]]   x[行[0,1,2]，列[0,1,0]]\n",
    "# 进行行列 组合： (0,0)  (1,1)  (2,0)\n",
    "print(y)\n"
   ]
  },
  {
   "cell_type": "code",
   "execution_count": 4,
   "metadata": {},
   "outputs": [
    {
     "name": "stdout",
     "output_type": "stream",
     "text": [
      "[[1 2]\n",
      " [3 4]\n",
      " [5 6]]\n",
      "[1 6]\n"
     ]
    }
   ],
   "source": [
    "x = np.array([[1,  2],  [3,  4],  [5,  6]]) \n",
    "#    0   1\n",
    "# 0[[1  2]\n",
    "# 1[3  4]\n",
    "# 2[5  6]]\n",
    "y = x[[0,2],[0,1]] \n",
    "# x[[0,2],[0,1]] 意思 x[行[0,2],列[0,1]]\n",
    "# 进行行列 组合定位数据：  坐标数据：(0,0) (2,1)\n",
    "# (0,0)==> 1   （2，1）==>6\n",
    "# 所以该高级索引 运行结果是  [1,6]\n",
    "print(y)"
   ]
  },
  {
   "cell_type": "code",
   "execution_count": 5,
   "metadata": {},
   "outputs": [
    {
     "name": "stdout",
     "output_type": "stream",
     "text": [
      "我们的数组是：\n",
      "[[ 0  1  2]\n",
      " [ 3  4  5]\n",
      " [ 6  7  8]\n",
      " [ 9 10 11]]\n",
      "\n",
      "\n",
      "这个数组的四个角元素是：\n",
      "[[ 0  2]\n",
      " [ 9 11]]\n"
     ]
    }
   ],
   "source": [
    "x = np.array([[  0,  1,  2],[  3,  4,  5],[  6,  7,  8],[  9,  10,  11]])  \n",
    "print('我们的数组是：' )\n",
    "print(x)\n",
    "print('\\n')\n",
    "rows = np.array([[0,0],[3,3]]) \n",
    "cols = np.array([[0,2],[0,2]]) \n",
    "y = x[rows,cols]  \n",
    "# x[rows,cols] ==> x[行：[[0,0],[3,3]],列：[0,2],[0,2]]\n",
    "# 进行行列组合：行（A,B）   列（x,y）\n",
    "# 进行行列组合：   Ax   Ay\n",
    "#                  Bx   By\n",
    "# x[[0,0]，[0,2]]      x[[0,0]，[0,2]]\n",
    "# x[[3,3]，[0,2]]      x[[3,3]，[0,2]]\n",
    "# --------再次进行行列组合--------------------------------------\n",
    "# (0,0)(0,2)==>0 2     (0,0)(0,2)==>0 2\n",
    "# (3,0)(3,2)==>9 11     (3,0)(3,2)==>9 11\n",
    "\n",
    "#    [[0 2]  [0 2]\n",
    "#    [9 11] [9 11]]\n",
    "# 该运行方式  求数组（矩阵的 左起斜对角线  ）\n",
    "# [[ 0  2]\n",
    "#  [ 9 11]]\n",
    "print('这个数组的四个角元素是：')\n",
    "print(y)"
   ]
  },
  {
   "cell_type": "code",
   "execution_count": 6,
   "metadata": {},
   "outputs": [
    {
     "name": "stdout",
     "output_type": "stream",
     "text": [
      "我们的数组是：\n",
      "[[ 0  1  2]\n",
      " [ 3  4  5]\n",
      " [ 6  7  8]\n",
      " [ 9 10 11]]\n",
      "\n",
      "\n",
      "这个数组的四个角元素是：\n",
      "[[ 0 10]\n",
      " [ 9  5]]\n"
     ]
    }
   ],
   "source": [
    "x = np.array([[  0,  1,  2],[  3,  4,  5],[  6,  7,  8],[  9,  10,  11]])  \n",
    "print('我们的数组是：' )\n",
    "print(x)\n",
    "print('\\n')\n",
    "rows = np.array([[0,3],[3,1]]) \n",
    "cols = np.array([[0,1],[0,2]]) \n",
    "y = x[rows,cols]  \n",
    "print('这个数组的四个角元素是：')\n",
    "print(y)\n",
    "# 左上的数据坐标 :  \n",
    "# [0,3] [0,1] ===> 进一步行列组合：（0，0）==>0（3，1）==>10\n",
    "# 右下的数据坐标 :  \n",
    "# [3,1] [0,2] ===> 进一步行列组合：（3，0）==>9（1，2）==>5\n",
    "# [0 10]\n",
    "# [9 5]"
   ]
  },
  {
   "cell_type": "code",
   "execution_count": 7,
   "metadata": {},
   "outputs": [
    {
     "name": "stdout",
     "output_type": "stream",
     "text": [
      "[[5 6]\n",
      " [8 9]]\n",
      "[[5 6]\n",
      " [8 9]]\n",
      "[[2 3]\n",
      " [5 6]\n",
      " [8 9]]\n"
     ]
    }
   ],
   "source": [
    "a = np.array([[1,2,3], [4,5,6],[7,8,9]])\n",
    "b = a[1:3, 1:3]\n",
    "c = a[1:3,[1,2]]\n",
    "d = a[...,1:]\n",
    "print(b)\n",
    "print(c)\n",
    "print(d)"
   ]
  },
  {
   "cell_type": "code",
   "execution_count": 8,
   "metadata": {},
   "outputs": [
    {
     "name": "stdout",
     "output_type": "stream",
     "text": [
      "我们的数组是：\n",
      "[[ 0  1  2]\n",
      " [ 3  4  5]\n",
      " [ 6  7  8]\n",
      " [ 9 10 11]]\n",
      "\n",
      "\n",
      "大于 5 的元素是：\n",
      "[ 6  7  8  9 10 11]\n"
     ]
    }
   ],
   "source": [
    "x = np.array([[  0,  1,  2],[  3,  4,  5],[  6,  7,  8],[  9,  10,  11]])  \n",
    "print ('我们的数组是：')\n",
    "print (x)\n",
    "print ('\\n')\n",
    "# 现在我们会打印出大于 5 的元素  \n",
    "print  ('大于 5 的元素是：')\n",
    "print (x[x >  5])"
   ]
  },
  {
   "cell_type": "code",
   "execution_count": 9,
   "metadata": {},
   "outputs": [
    {
     "name": "stdout",
     "output_type": "stream",
     "text": [
      "[1. 2. 3. 4. 5.]\n"
     ]
    }
   ],
   "source": [
    "a = np.array([np.nan,  1,2,np.nan,3,4,5])  \n",
    "print(a[~np.isnan(a)])"
   ]
  },
  {
   "cell_type": "code",
   "execution_count": 12,
   "metadata": {},
   "outputs": [
    {
     "name": "stdout",
     "output_type": "stream",
     "text": [
      "[2. +6.j 3.5+5.j]\n"
     ]
    }
   ],
   "source": [
    "a = np.array([1,  2+6j,  5,  3.5+5j])  \n",
    "print (a[np.iscomplex(a)])"
   ]
  },
  {
   "cell_type": "code",
   "execution_count": 13,
   "metadata": {},
   "outputs": [
    {
     "name": "stdout",
     "output_type": "stream",
     "text": [
      "[[ 0  1  2  3]\n",
      " [ 4  5  6  7]\n",
      " [ 8  9 10 11]\n",
      " [12 13 14 15]\n",
      " [16 17 18 19]\n",
      " [20 21 22 23]\n",
      " [24 25 26 27]\n",
      " [28 29 30 31]]\n"
     ]
    }
   ],
   "source": [
    "x=np.arange(32).reshape((8,4))\n",
    "# print(x)\n",
    "print (x[[4,2,1,7]])"
   ]
  },
  {
   "cell_type": "code",
   "execution_count": 15,
   "metadata": {},
   "outputs": [
    {
     "name": "stdout",
     "output_type": "stream",
     "text": [
      "[[ 4  7  5  6]\n",
      " [20 23 21 22]\n",
      " [28 31 29 30]\n",
      " [ 8 11  9 10]]\n",
      "\n",
      "[ 4 23 29 10]\n"
     ]
    }
   ],
   "source": [
    "x=np.arange(32).reshape((8,4))\n",
    "print(x[np.ix_([1,5,7,2],[0,3,1,2])])\n",
    "print()\n",
    "print(x[[1,5,7,2],[0,3,1,2]])  #行列组合 1,0  5,3  7,1  2,2\n",
    "                               #          4    23   29   10"
   ]
  },
  {
   "cell_type": "code",
   "execution_count": null,
   "metadata": {},
   "outputs": [],
   "source": []
  }
 ],
 "metadata": {
  "kernelspec": {
   "display_name": "Python 3",
   "language": "python",
   "name": "python3"
  },
  "language_info": {
   "codemirror_mode": {
    "name": "ipython",
    "version": 3
   },
   "file_extension": ".py",
   "mimetype": "text/x-python",
   "name": "python",
   "nbconvert_exporter": "python",
   "pygments_lexer": "ipython3",
   "version": "3.7.6"
  }
 },
 "nbformat": 4,
 "nbformat_minor": 4
}
