{
 "cells": [
  {
   "cell_type": "code",
   "execution_count": 5,
   "metadata": {},
   "outputs": [
    {
     "name": "stdout",
     "output_type": "stream",
     "text": [
      "连接两个字符串：\n",
      "[['a1']\n",
      " ['b2']]\n",
      "\n",
      "\n",
      "连接示例：\n",
      "['helloabc' 'hixyz']\n"
     ]
    }
   ],
   "source": [
    "# add() 对两个数组的逐个字符串元素进行连接\n",
    "import numpy as np \n",
    "\n",
    "# help(np.char.add) 两个参数x1 x2, 是array_like  ，可以是列表 元组 数组\n",
    " \n",
    "print ('连接两个字符串：')\n",
    "# print (np.char.add(['hello'],['xyz'])) # x1 x2 都是列表\n",
    "\n",
    "# nd_x1 = np.array(['hello'])   # 得到数组对象\n",
    "# nd_x2 = np.array(['xyz'])\n",
    "# print (np.char.add(nd_x1,nd_x2))\n",
    "# print ('\\n')\n",
    "\n",
    "nd_x1 = np.array([['a'],['b']])   # 得到数组对象\n",
    "nd_x2 = np.array([['1'],['2']])\n",
    "print (np.char.add(nd_x1,nd_x2))\n",
    "print ('\\n')\n",
    " \n",
    "print ('连接示例：')\n",
    "print (np.char.add(['hello', 'hi'],['abc', 'xyz']))\n"
   ]
  },
  {
   "cell_type": "code",
   "execution_count": 6,
   "metadata": {},
   "outputs": [
    {
     "name": "stdout",
     "output_type": "stream",
     "text": [
      "RunoobRunoobRunoob\n"
     ]
    }
   ],
   "source": [
    "# numpy.char.multiply() 函数执行多重连接\n",
    "\n",
    "print (np.char.multiply('Runoob',3))"
   ]
  },
  {
   "cell_type": "code",
   "execution_count": 7,
   "metadata": {},
   "outputs": [
    {
     "name": "stdout",
     "output_type": "stream",
     "text": [
      "*******Runoob*******\n"
     ]
    }
   ],
   "source": [
    "# numpy.char.center() 函数用于将字符串居中，并使用指定字符在左侧和右侧进行填充。\n",
    "\n",
    "# np.char.center(str , width,fillchar) ：\n",
    "# str: 字符串，width: 长度，fillchar: 填充字符\n",
    "print (np.char.center('Runoob', 20,fillchar = '*'))"
   ]
  },
  {
   "cell_type": "code",
   "execution_count": 10,
   "metadata": {},
   "outputs": [
    {
     "name": "stdout",
     "output_type": "stream",
     "text": [
      "Runoob aa\n"
     ]
    }
   ],
   "source": [
    "# numpy.char.capitalize() 函数将字符串的第一个字母转换为大写\n",
    "\n",
    "print (np.char.capitalize('runoob aa'))"
   ]
  },
  {
   "cell_type": "code",
   "execution_count": 9,
   "metadata": {},
   "outputs": [
    {
     "name": "stdout",
     "output_type": "stream",
     "text": [
      "I Like Runoob\n"
     ]
    }
   ],
   "source": [
    "# numpy.char.title() 函数将字符串的每个单词的第一个字母转换为大写\n",
    "\n",
    "print (np.char.title('i like runoob'))"
   ]
  },
  {
   "cell_type": "code",
   "execution_count": 11,
   "metadata": {},
   "outputs": [
    {
     "name": "stdout",
     "output_type": "stream",
     "text": [
      "['runoob' 'google']\n",
      "runoob\n",
      "['RUNOOB' 'GOOGLE']\n",
      "RUNOOB\n"
     ]
    }
   ],
   "source": [
    "# numpy.char.lower()\n",
    "# numpy.char.upper()\n",
    "\n",
    "#操作数组\n",
    "print (np.char.lower(['RUNOOB','GOOGLE']))\n",
    " \n",
    "# 操作字符串\n",
    "print (np.char.lower('RUNOOB'))\n",
    "\n",
    "#操作数组\n",
    "print (np.char.upper(['runoob','google']))\n",
    " \n",
    "# 操作字符串\n",
    "print (np.char.upper('runoob'))"
   ]
  },
  {
   "cell_type": "code",
   "execution_count": 16,
   "metadata": {},
   "outputs": [
    {
     "name": "stdout",
     "output_type": "stream",
     "text": [
      "['i', 'like', 'runoob?']\n",
      "['www', 'runoob', 'com']\n"
     ]
    }
   ],
   "source": [
    "# numpy.char.split()   # 切割\n",
    "\n",
    "# 分隔符默认为空格\n",
    "print (np.char.split ('i     like runoob?'))\n",
    "# 分隔符为 .\n",
    "print (np.char.split ('www.runoob.com',sep = '.'))"
   ]
  },
  {
   "cell_type": "code",
   "execution_count": 17,
   "metadata": {},
   "outputs": [
    {
     "name": "stdout",
     "output_type": "stream",
     "text": [
      "['i', 'like runoob?']\n",
      "['i', 'like runoob?']\n"
     ]
    }
   ],
   "source": [
    "# numpy.char.splitlines() 函数以换行符作为分隔符来分割字符串，并返回数组。\n",
    "\n",
    "# 换行符 \\n\n",
    "print (np.char.splitlines('i\\nlike runoob?')) \n",
    "print (np.char.splitlines('i\\rlike runoob?'))\n"
   ]
  },
  {
   "cell_type": "code",
   "execution_count": 18,
   "metadata": {},
   "outputs": [
    {
     "name": "stdout",
     "output_type": "stream",
     "text": [
      "shok arunoob\n",
      "['runoob' 'dmin' 'jav']\n"
     ]
    }
   ],
   "source": [
    "# numpy.char.strip()\n",
    "\n",
    "# 移除字符串头尾的 a 字符\n",
    "print (np.char.strip('ashok arunooba','a'))\n",
    " \n",
    "# 移除数组元素头尾的 a 字符\n",
    "print (np.char.strip(['arunooba','admin','java'],'a'))"
   ]
  },
  {
   "cell_type": "code",
   "execution_count": 19,
   "metadata": {},
   "outputs": [
    {
     "name": "stdout",
     "output_type": "stream",
     "text": [
      "r:u:n:o:o:b\n",
      "['r:u:n:o:o:b' 'g-o-o-g-l-e']\n"
     ]
    }
   ],
   "source": [
    "# numpy.char.join() 函数通过指定分隔符来连接数组中的元素或字符串\n",
    "\n",
    "# 操作字符串\n",
    "print (np.char.join(':','runoob'))\n",
    " \n",
    "# 指定多个分隔符操作数组元素\n",
    "print (np.char.join([':','-'],['runoob','google']))"
   ]
  },
  {
   "cell_type": "code",
   "execution_count": 20,
   "metadata": {},
   "outputs": [
    {
     "name": "stdout",
     "output_type": "stream",
     "text": [
      "i like runccb\n"
     ]
    }
   ],
   "source": [
    "# numpy.char.replace() 函数使用新字符串替换字符串中的所有子字符串。\n",
    "\n",
    "print (np.char.replace ('i like runoob', 'oo', 'cc'))"
   ]
  },
  {
   "cell_type": "code",
   "execution_count": 21,
   "metadata": {},
   "outputs": [
    {
     "name": "stdout",
     "output_type": "stream",
     "text": [
      "b'\\x99\\xa4\\x95\\x96\\x96\\x82'\n",
      "runoob\n"
     ]
    }
   ],
   "source": [
    "# numpy.char.encode()   编码（字符数据向二进制数据转换的过程）\n",
    "# numpy.char.decode()   解码 （二进制 数据 向  字符转换的  过程）\n",
    "\n",
    "\n",
    "a = np.char.encode('runoob', 'cp500') \n",
    "print (a)\n",
    "print (np.char.decode(a,'cp500'))"
   ]
  },
  {
   "cell_type": "code",
   "execution_count": null,
   "metadata": {},
   "outputs": [],
   "source": []
  }
 ],
 "metadata": {
  "kernelspec": {
   "display_name": "Python 3",
   "language": "python",
   "name": "python3"
  },
  "language_info": {
   "codemirror_mode": {
    "name": "ipython",
    "version": 3
   },
   "file_extension": ".py",
   "mimetype": "text/x-python",
   "name": "python",
   "nbconvert_exporter": "python",
   "pygments_lexer": "ipython3",
   "version": "3.7.6"
  }
 },
 "nbformat": 4,
 "nbformat_minor": 4
}
