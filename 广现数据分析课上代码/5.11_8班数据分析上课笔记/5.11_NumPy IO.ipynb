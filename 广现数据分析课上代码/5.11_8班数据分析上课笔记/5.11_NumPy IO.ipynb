{
 "cells": [
  {
   "cell_type": "code",
   "execution_count": 1,
   "metadata": {},
   "outputs": [],
   "source": [
    "# 什么是 I(input) 输入/O(output)输出\n",
    "\n",
    "# 以内存 为参照物\n",
    "# 程序代码在 内存 运行  会产生数据 （临时的）\n",
    "# 想要永久保存  就要  写入文件 或者 写入 数据库\n",
    "# 内存数据  ---输出output  写write-->  文件\n",
    "# 从文件获取数据 ---输入input  读read---> 内存\n",
    "\n",
    "\n",
    "import numpy as np \n",
    " \n",
    "a = np.array([1,2,3,4,5]) \n",
    " \n",
    "# 保存到 outfile.npy 文件上\n",
    "np.save('outfile.npy',a) \n",
    " \n",
    "# 保存到 outfile2.npy 文件上，如果文件路径末尾没有扩展名 .npy，该扩展名会被自动加上\n",
    "np.save('outfile2',a)\n",
    "\n"
   ]
  },
  {
   "cell_type": "code",
   "execution_count": null,
   "metadata": {},
   "outputs": [],
   "source": []
  }
 ],
 "metadata": {
  "kernelspec": {
   "display_name": "Python 3",
   "language": "python",
   "name": "python3"
  },
  "language_info": {
   "codemirror_mode": {
    "name": "ipython",
    "version": 3
   },
   "file_extension": ".py",
   "mimetype": "text/x-python",
   "name": "python",
   "nbconvert_exporter": "python",
   "pygments_lexer": "ipython3",
   "version": "3.7.6"
  }
 },
 "nbformat": 4,
 "nbformat_minor": 4
}
