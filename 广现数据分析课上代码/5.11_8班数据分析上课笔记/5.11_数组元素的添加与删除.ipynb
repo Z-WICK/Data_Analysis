{
 "cells": [
  {
   "cell_type": "code",
   "execution_count": 2,
   "metadata": {},
   "outputs": [
    {
     "name": "stdout",
     "output_type": "stream",
     "text": [
      "第一个数组：\n",
      "[[1 2 3]\n",
      " [4 5 6]]\n",
      "\n",
      "\n",
      "第一个数组的形状：\n",
      "(2, 3)\n",
      "\n",
      "\n",
      "第二个数组：\n",
      "[[1 2]\n",
      " [3 4]\n",
      " [5 6]]\n",
      "\n",
      "\n",
      "第二个数组的形状：\n",
      "(3, 2)\n",
      "\n",
      "\n",
      "修改第二个数组的大小：\n",
      "[[1 2 3 4]\n",
      " [5 6 1 2]\n",
      " [3 4 5 6]\n",
      " [1 2 3 4]]\n"
     ]
    }
   ],
   "source": [
    "# 数组元素的添加与删除\n",
    "\n",
    "# numpy.resize\n",
    "\n",
    "\n",
    "import numpy as np\n",
    " \n",
    "a = np.array([[1,2,3],[4,5,6]])\n",
    "print ('第一个数组：')\n",
    "print (a)\n",
    "print ('\\n')\n",
    " \n",
    "print ('第一个数组的形状：')\n",
    "print (a.shape)\n",
    "print ('\\n')\n",
    "b = np.resize(a, (3,2))\n",
    " \n",
    "print ('第二个数组：')\n",
    "print (b)\n",
    "print ('\\n')\n",
    " \n",
    "print ('第二个数组的形状：')\n",
    "print (b.shape)\n",
    "print ('\\n')\n",
    "# 要注意 a 的第一行在 b 中重复出现，因为尺寸变大了\n",
    " \n",
    "print ('修改第二个数组的大小：')\n",
    "b = np.resize(a,(4,4))\n",
    "print (b)\n",
    "\n",
    "\n",
    "\n",
    "\n",
    "\n",
    "\n"
   ]
  },
  {
   "cell_type": "code",
   "execution_count": 3,
   "metadata": {},
   "outputs": [
    {
     "name": "stdout",
     "output_type": "stream",
     "text": [
      "第一个数组：\n",
      "[[1 2 3]\n",
      " [4 5 6]]\n",
      "\n",
      "\n",
      "向数组添加元素：\n",
      "[1 2 3 4 5 6 7 8 9]\n",
      "\n",
      "\n",
      "沿轴 0 添加元素：\n",
      "[[1 2 3]\n",
      " [4 5 6]\n",
      " [7 8 9]]\n",
      "\n",
      "\n",
      "沿轴 1 添加元素：\n",
      "[[1 2 3 5 5 5]\n",
      " [4 5 6 7 8 9]]\n"
     ]
    }
   ],
   "source": [
    "#numpy.append 函数在数组的末尾添加值\n",
    "\n",
    "a = np.array([[1,2,3],[4,5,6]])\n",
    "print ('第一个数组：')\n",
    "print (a)\n",
    "print ('\\n')\n",
    " \n",
    "print ('向数组添加元素：')\n",
    "print (np.append(a, [7,8,9]))  # [1 2 3 4 5 6 7 8 9]\n",
    "print ('\\n')\n",
    " \n",
    "print ('沿轴 0 添加元素：')\n",
    "print (np.append(a, [[7,8,9]],axis = 0))\n",
    "print ('\\n')\n",
    " \n",
    "print ('沿轴 1 添加元素：')\n",
    "print (np.append(a, [[5,5,5],[7,8,9]],axis = 1))\n"
   ]
  },
  {
   "cell_type": "code",
   "execution_count": 4,
   "metadata": {},
   "outputs": [
    {
     "name": "stdout",
     "output_type": "stream",
     "text": [
      "第一个数组：\n",
      "[[1 2]\n",
      " [3 4]\n",
      " [5 6]]\n",
      "\n",
      "\n",
      "未传递 Axis 参数。 在插入之前输入数组会被展开。\n",
      "[ 1  2  3 11 12  4  5  6]\n",
      "\n",
      "\n",
      "传递了 Axis 参数。 会广播值数组来配输入数组。\n",
      "沿轴 0 广播：\n",
      "[[ 1  2]\n",
      " [11 11]\n",
      " [ 3  4]\n",
      " [ 5  6]]\n",
      "\n",
      "\n",
      "沿轴 1 广播：\n",
      "[[ 1 11  2]\n",
      " [ 3 11  4]\n",
      " [ 5 11  6]]\n"
     ]
    }
   ],
   "source": [
    "# numpy.insert 函数在给定索引之前，沿给定轴在输入数组中插入值。\n",
    "\n",
    "a = np.array([[1,2],[3,4],[5,6]])\n",
    "print ('第一个数组：')\n",
    "print (a)\n",
    "print ('\\n')\n",
    " \n",
    "print ('未传递 Axis 参数。 在插入之前输入数组会被展开。')\n",
    "print (np.insert(a,3,[11,12]))   # [1,2,3,11,12,4,5,6]\n",
    "print ('\\n')\n",
    "print ('传递了 Axis 参数。 会广播值数组来配输入数组。')\n",
    " \n",
    "print ('沿轴 0 广播：')\n",
    "print (np.insert(a,1,[11],axis = 0))\n",
    "# [[1,2]  0\n",
    "#  [11,11]\n",
    "#  [3,4]  1\n",
    "#  [5,6]] 2\n",
    "print ('\\n')\n",
    " \n",
    "print ('沿轴 1 广播：')\n",
    "print (np.insert(a,1,11,axis = 1))\n",
    "# [[1,11,2]  \n",
    "#  [3,11,4]  \n",
    "#  [5,11,6]] \n",
    "\n",
    "c = np.arange(16).reshape(2,2,2,2)\n",
    "print ('沿轴 3 广播：')\n",
    "print (np.insert(c,1,11,axis = 3))"
   ]
  },
  {
   "cell_type": "code",
   "execution_count": 5,
   "metadata": {},
   "outputs": [
    {
     "name": "stdout",
     "output_type": "stream",
     "text": [
      "第一个数组：\n",
      "[[ 0  1  2  3]\n",
      " [ 4  5  6  7]\n",
      " [ 8  9 10 11]]\n",
      "\n",
      "\n",
      "未传递 Axis 参数。 在插入之前输入数组会被展开。\n",
      "[ 0  1  2  3  4  6  7  8  9 10 11]\n",
      "\n",
      "\n",
      "删除第二列：\n",
      "[[ 0  2  3]\n",
      " [ 4  6  7]\n",
      " [ 8 10 11]]\n",
      "\n",
      "\n",
      "包含从数组中删除的替代值的切片：\n",
      "[ 2  4  6  8 10]\n"
     ]
    }
   ],
   "source": [
    "# numpy.delete 函数返回从输入数组中删除指定子数组的新数组。\n",
    "\n",
    "a = np.arange(12).reshape(3,4)\n",
    "print ('第一个数组：')\n",
    "print (a)\n",
    "print ('\\n')\n",
    " \n",
    "print ('未传递 Axis 参数。 在插入之前输入数组会被展开。')\n",
    "print (np.delete(a,5))\n",
    "print ('\\n')\n",
    " \n",
    "print ('删除第二列：')\n",
    "print (np.delete(a,1,axis = 1))\n",
    "print ('\\n')\n",
    " \n",
    "print ('包含从数组中删除的替代值的切片：')\n",
    "a = np.array([1,2,3,4,5,6,7,8,9,10])\n",
    "print (np.delete(a, np.s_[::2]))"
   ]
  },
  {
   "cell_type": "code",
   "execution_count": null,
   "metadata": {},
   "outputs": [],
   "source": []
  }
 ],
 "metadata": {
  "kernelspec": {
   "display_name": "Python 3",
   "language": "python",
   "name": "python3"
  },
  "language_info": {
   "codemirror_mode": {
    "name": "ipython",
    "version": 3
   },
   "file_extension": ".py",
   "mimetype": "text/x-python",
   "name": "python",
   "nbconvert_exporter": "python",
   "pygments_lexer": "ipython3",
   "version": "3.7.6"
  }
 },
 "nbformat": 4,
 "nbformat_minor": 4
}
